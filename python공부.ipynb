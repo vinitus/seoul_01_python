{
 "cells": [
  {
   "cell_type": "markdown",
   "id": "0a90d767",
   "metadata": {},
   "source": [
    "### Trusy, Falsy 문제"
   ]
  },
  {
   "cell_type": "markdown",
   "id": "60705b6b",
   "metadata": {},
   "source": [
    "미리 생각하고 맞춰보세요"
   ]
  },
  {
   "cell_type": "code",
   "execution_count": null,
   "id": "70b532ae",
   "metadata": {},
   "outputs": [],
   "source": [
    "print(bool('\"\"'))\n",
    "print(bool(0))\n",
    "print(bool('False'))"
   ]
  },
  {
   "cell_type": "code",
   "execution_count": null,
   "id": "ce262359",
   "metadata": {},
   "outputs": [],
   "source": [
    "print(bool(''))\n",
    "print(bool(-1))\n",
    "print(bool((1,)))"
   ]
  },
  {
   "cell_type": "code",
   "execution_count": null,
   "id": "abf3e568",
   "metadata": {},
   "outputs": [],
   "source": [
    "print(bool(' '))\n",
    "print(bool(None))\n",
    "print(bool([0]))"
   ]
  },
  {
   "cell_type": "code",
   "execution_count": null,
   "id": "785a84db",
   "metadata": {},
   "outputs": [],
   "source": [
    "print(bool(range(0,1)))\n",
    "print(bool(range(0)))\n",
    "print(bool(True-1))"
   ]
  },
  {
   "cell_type": "markdown",
   "id": "19a87a00",
   "metadata": {},
   "source": [
    "-----------------------------------------------------------------------------------------------------"
   ]
  },
  {
   "cell_type": "markdown",
   "id": "7d52c677",
   "metadata": {},
   "source": [
    "### 얕복, 깊복"
   ]
  },
  {
   "cell_type": "markdown",
   "id": "a8dfa53e",
   "metadata": {},
   "source": [
    "다음 코드의 실행결과는?"
   ]
  },
  {
   "cell_type": "code",
   "execution_count": null,
   "id": "247d0d9e",
   "metadata": {},
   "outputs": [],
   "source": [
    "a = [1,2,3]\n",
    "b = a\n",
    "a[0] = 'a'\n",
    "print(b)"
   ]
  },
  {
   "cell_type": "markdown",
   "id": "c90ea999",
   "metadata": {},
   "source": [
    "다음 중 print(a)를 했을 때 결과가 [1,2,3]인 것을 모두 고르시오.\n",
    "```python\n",
    "a = [1,2,3]\n",
    "```\n",
    "다음 중 하나를 실행\n",
    "1. b = a[:]\n",
    "2. b = list(a)\n",
    "3. b = list(i for i in a)\n",
    "4. b = [1,2,3]\n",
    "5. b = [a[0],a[1],a[2]]\n",
    "\n",
    "```python\n",
    "b[0] = 3\n",
    "print(a)\n",
    "```"
   ]
  },
  {
   "cell_type": "markdown",
   "id": "0064d2ad",
   "metadata": {},
   "source": [
    "다음 결과에 대해 할당, 얕은복사, 깊은복사의 개념과 함께 설명하시오."
   ]
  },
  {
   "cell_type": "code",
   "execution_count": 20,
   "id": "c8c75f78",
   "metadata": {
    "scrolled": true
   },
   "outputs": [
    {
     "name": "stdout",
     "output_type": "stream",
     "text": [
      "[1, 2, [5, 6]]\n",
      "[1, 2, [3, 4]]\n",
      ">>>>>>>>>>>>>>\n",
      "[1, 2, [5, 4]]\n",
      "[1, 2, [5, 4]]\n"
     ]
    }
   ],
   "source": [
    "a = [1,2,[3,4]]\n",
    "b = a[:]\n",
    "a[2] = [5,6]\n",
    "print(a)\n",
    "print(b)\n",
    "print('>>>>>>>>>>>>>>')\n",
    "c = [1,2,[3,4]]\n",
    "d = c[:]\n",
    "c[2][0] = 5\n",
    "print(c)\n",
    "print(d)"
   ]
  },
  {
   "cell_type": "markdown",
   "id": "abad59e0",
   "metadata": {},
   "source": [
    "----"
   ]
  },
  {
   "cell_type": "markdown",
   "id": "ccedfdac",
   "metadata": {},
   "source": [
    "### 연산"
   ]
  },
  {
   "cell_type": "markdown",
   "id": "83f020f5",
   "metadata": {},
   "source": [
    "다음 print의 결과는? (실행 전에 6개 전부 생각하고 맞춰보기, 소숫점까지 표현)"
   ]
  },
  {
   "cell_type": "code",
   "execution_count": 26,
   "id": "b9b600e3",
   "metadata": {},
   "outputs": [],
   "source": [
    "a = 100\n",
    "b = 20\n",
    "a -= 1\n",
    "print(a)      #\n",
    "b **= 2\n",
    "print(b)      #\n",
    "print(b % 2)  #\n",
    "b /= (a + 1)\n",
    "print(b * (a + 1))    #\n",
    "print(b)      #\n",
    "a -= a + 1\n",
    "print(a)"
   ]
  },
  {
   "cell_type": "markdown",
   "id": "6a585a5a",
   "metadata": {},
   "source": [
    "--------------\n"
   ]
  },
  {
   "cell_type": "markdown",
   "id": "5ab15e55",
   "metadata": {},
   "source": [
    "### 딕셔너리 값에 대한 접근 방법 두가지"
   ]
  },
  {
   "cell_type": "markdown",
   "id": "9d200f77",
   "metadata": {},
   "source": [
    "다음 실행 구문에서 발생할 오류와 두가지 접근 방식의 차이에 대해 간단히 설명하시오."
   ]
  },
  {
   "cell_type": "code",
   "execution_count": null,
   "id": "6fd7ac1e",
   "metadata": {},
   "outputs": [],
   "source": [
    "a = {\"ssafy\" : 1150, \"hello\" : \"world\"}\n",
    "print(a[\"python\"])\n",
    "print(a.get('python'))"
   ]
  },
  {
   "cell_type": "markdown",
   "id": "36c5e496",
   "metadata": {},
   "source": [
    "-------"
   ]
  },
  {
   "cell_type": "markdown",
   "id": "273b4e49",
   "metadata": {},
   "source": [
    "### 자료형"
   ]
  },
  {
   "cell_type": "markdown",
   "id": "0e6bd9fb",
   "metadata": {},
   "source": [
    "다음 중 순회 가능한 자료형을 모두 고르시오.\n",
    "1. list\n",
    "2. str\n",
    "3. int\n",
    "4. tuple\n",
    "5. float\n",
    "6. dict\n",
    "7. tuple\n",
    "8. set"
   ]
  },
  {
   "cell_type": "markdown",
   "id": "e032b675",
   "metadata": {},
   "source": [
    "다음 중 변경 가능한 자료형을 모두 고르시오.\n",
    "1. float\n",
    "2. list\n",
    "3. dict\n",
    "4. str\n",
    "5. tuple\n",
    "6. int\n"
   ]
  },
  {
   "cell_type": "markdown",
   "id": "17571025",
   "metadata": {},
   "source": [
    "다음 코드에서 a는 1에서 2로 변경했다. 그렇지만 int형인 a는 변경 불가능한 자료형이다. 이에 대해 설명하시오."
   ]
  },
  {
   "cell_type": "code",
   "execution_count": 24,
   "id": "fb609b75",
   "metadata": {},
   "outputs": [
    {
     "name": "stdout",
     "output_type": "stream",
     "text": [
      "2\n"
     ]
    }
   ],
   "source": [
    "a = 1\n",
    "a = 2\n",
    "print(a)"
   ]
  },
  {
   "cell_type": "markdown",
   "id": "40219c33",
   "metadata": {},
   "source": [
    "다음 코드의 결과는?"
   ]
  },
  {
   "cell_type": "code",
   "execution_count": null,
   "id": "2e1b2564",
   "metadata": {},
   "outputs": [],
   "source": [
    "a = \"ssafy\"\n",
    "print(a[0] == \"s\")\n",
    "a[0] = \"s\"\n",
    "print(a)"
   ]
  },
  {
   "cell_type": "markdown",
   "id": "5d2c0b25",
   "metadata": {},
   "source": [
    "다음 중 sequnce형인 자료형을 모두 고르시오.\n",
    "1. range\n",
    "2. int\n",
    "3. dict\n",
    "4. str"
   ]
  },
  {
   "cell_type": "markdown",
   "id": "c2e07cf6",
   "metadata": {},
   "source": [
    "-----"
   ]
  },
  {
   "cell_type": "markdown",
   "id": "59590735",
   "metadata": {},
   "source": [
    "### 객체, 인스턴스, 클래스"
   ]
  },
  {
   "cell_type": "markdown",
   "id": "aeb543d6",
   "metadata": {},
   "source": [
    "단어로 빈칸 채우기\n",
    "\n",
    "(A) 인 [1,2,3]은 list의 (B) 이다."
   ]
  },
  {
   "cell_type": "markdown",
   "id": "1a4cadb4",
   "metadata": {},
   "source": [
    " "
   ]
  },
  {
   "cell_type": "markdown",
   "id": "f6780c2e",
   "metadata": {},
   "source": [
    "다음 실행 결과를 class 속성, instance속성의 개념과 함께 설명하시오.\n",
    "```pyhton\n",
    "class Person:\n",
    "    count = 0\n",
    "    def __init__(self,name):\n",
    "        self.name = name\n",
    "        Person.count += 1\n",
    "p1 = Person(\"A\")\n",
    "p2 = Person(\"B\")\n",
    "print(Person.count)\n",
    "print(p1.name)\n",
    "```"
   ]
  },
  {
   "cell_type": "markdown",
   "id": "5d9ed51e",
   "metadata": {},
   "source": [
    "다음 코드의 실행 결과를 namespace 개념과 함께 설명하시오."
   ]
  },
  {
   "cell_type": "code",
   "execution_count": null,
   "id": "4e9919d8",
   "metadata": {},
   "outputs": [],
   "source": [
    "# 다음 실행 결과는?\n",
    "class MyDinner:\n",
    "    food = [\"chickeen\", \"sushi\", \"pasta\", \"sunny_side_up\"]\n",
    "    def __init__(self):\n",
    "        self.food = MyDinner.food[:]\n",
    "    def eat1(self):\n",
    "        self.food.pop()\n",
    "    def eat2(self):\n",
    "        MyDinner.food.pop()\n",
    "        \n",
    "a = MyDinner()\n",
    "b = MyDinner()\n",
    "\n",
    "a.eat1()\n",
    "\n",
    "print(a.food)\n",
    "print(b.food)\n",
    "\n",
    "b.eat2()\n",
    "c = MyDinner()\n",
    "print(b.food)\n",
    "print(c.food)\n",
    "\n",
    "MyDinner.food = [\"I'm full...\"]\n",
    "d = MyDinner()\n",
    "print(d.food)"
   ]
  },
  {
   "cell_type": "markdown",
   "id": "3e33f32e",
   "metadata": {},
   "source": [
    "클래스 메서드에 대한 내용인데 중요한지는 모르겠어요. 패스하실분들은 패스하셔도 될 것 같아요.\n",
    "\n",
    "다음 코드의 결과와 이를 인스턴스, 클래스 메서드의 개념과 함께 설명하시오."
   ]
  },
  {
   "cell_type": "code",
   "execution_count": null,
   "id": "ab7fc0c8",
   "metadata": {},
   "outputs": [],
   "source": [
    "class MyDinner:\n",
    "    food = [\"chickeen\", \"sushi\", \"pasta\", \"sunny_side_up\"]\n",
    "    def __init__(self):\n",
    "        self.food = MyDinner.food[:]\n",
    "    def eat1(self):\n",
    "        self.food.pop()\n",
    "    def eat2(self):\n",
    "        MyDinner.food.pop()\n",
    "    @classmethod\n",
    "    def eat3(cls):\n",
    "        return f'남은 음식 : {cls.food}'\n",
    "        \n",
    "a = MyDinner()\n",
    "b = MyDinner()\n",
    "\n",
    "a.eat1()\n",
    "\n",
    "print(MyDinner.eat3())\n",
    "print(a.eat3())\n",
    "print(MyDinner.eat2())"
   ]
  },
  {
   "cell_type": "markdown",
   "id": "862a1501",
   "metadata": {},
   "source": [
    "객체 지향의 핵심 4가지는 무엇이고 어떤 개념인지 간단히 설명하시오.\n",
    "1. \n",
    "2. \n",
    "3. \n",
    "4. "
   ]
  },
  {
   "cell_type": "markdown",
   "id": "b00f9e11",
   "metadata": {},
   "source": [
    "상속, namespace에 대한 문제"
   ]
  },
  {
   "cell_type": "code",
   "execution_count": null,
   "id": "11066f47",
   "metadata": {},
   "outputs": [],
   "source": [
    "# 다음 코드의 결과는?\n",
    "class MyFood:\n",
    "    food = [\"chickeen\", \"sushi\", \"pasta\", \"sunny_side_up\"]\n",
    "    def __init__(self, food_name):\n",
    "        self.food = MyFood.food[:]\n",
    "        self.food.append(food_name)\n",
    "    def eat1(self):\n",
    "        self.food.pop()\n",
    "    def eat2(self):\n",
    "        MyFood.food.pop()\n",
    "    \n",
    "    @classmethod\n",
    "    def eat3(cls):\n",
    "        cls.food.pop()\n",
    "\n",
    "class Cook(MyFood):\n",
    "    def eat2(self):\n",
    "        self.food.pop()\n",
    "    def cook_some_food(self, food_name):\n",
    "        self.food.append(food_name)\n",
    "\n",
    "\n",
    "a = Cook(\"fish_and_chips\")\n",
    "b = MyFood(\"vinitus\")\n",
    "print(MyFood.food)\n",
    "print(a.food)\n",
    "print(b.food)\n",
    "b.eat1()\n",
    "b.eat2()\n",
    "MyFood.eat3()\n",
    "a.eat1()\n",
    "a.cook_some_food(\"Ramen\")\n",
    "print(MyFood.food)\n",
    "print(a.food)\n",
    "print(b.food)"
   ]
  },
  {
   "cell_type": "markdown",
   "id": "8f0329af",
   "metadata": {},
   "source": [
    "다중 상속에 대한 문제"
   ]
  },
  {
   "cell_type": "code",
   "execution_count": null,
   "id": "743f1318",
   "metadata": {},
   "outputs": [],
   "source": [
    "# 다음 코드의 결과는?\n",
    "class Person:\n",
    "    def __init__(self,name = \"\"):\n",
    "        self.name = name\n",
    "        \n",
    "    def greeting(self):\n",
    "        return f'안녕, {self.name}'\n",
    "    \n",
    "class Mom(Person):\n",
    "    gene = 'XX'\n",
    "    \n",
    "    def swim(self):\n",
    "        return '엄마가 수영 중'\n",
    "\n",
    "class Dad(Person):\n",
    "    gene = 'XY'\n",
    "    \n",
    "    def walk(self):\n",
    "        return '아빠가 걷는 중'\n",
    "    \n",
    "class FirstChild(Dad,Mom):\n",
    "    def swim(self):\n",
    "        return f'{self.name}가 수영 중'\n",
    "\n",
    "    def cry(self):\n",
    "        return '첫째가 응애 중'\n",
    "     \n",
    "class SecondChild(Mom,Dad):\n",
    "    def walk(self):\n",
    "        return f'{self.name}가 걷는 중'\n",
    "    \n",
    "    def cry(self):\n",
    "        return '둘째가 응애 중'\n",
    "    \n",
    "class Hi_1st(FirstChild):\n",
    "    pass\n",
    "\n",
    "baby1 = Hi_1st(\"첫째\")\n",
    "baby2 = SecondChild(\"둘째\")\n",
    "\n",
    "print(baby1.cry())\n",
    "print(baby1.swim())\n",
    "print(baby1.walk())\n",
    "print(baby1.greeting())\n",
    "print(baby1.gene)\n",
    "\n",
    "print(baby2.cry())\n",
    "print(baby2.swim())\n",
    "print(baby2.walk())\n",
    "print(baby2.greeting())\n",
    "print(baby2.gene)"
   ]
  },
  {
   "cell_type": "markdown",
   "id": "12fcd66e",
   "metadata": {},
   "source": [
    "-----"
   ]
  },
  {
   "cell_type": "markdown",
   "id": "f5708a39",
   "metadata": {},
   "source": [
    "## 함수"
   ]
  },
  {
   "cell_type": "code",
   "execution_count": null,
   "id": "9ffcde64",
   "metadata": {},
   "outputs": [],
   "source": [
    "# 다음 코드의 결과는?\n",
    "def hi():\n",
    "    print('hi')\n",
    "print(hi())"
   ]
  },
  {
   "cell_type": "code",
   "execution_count": null,
   "id": "aeacdfea",
   "metadata": {},
   "outputs": [],
   "source": [
    "# 다음 코드의 결과는?\n",
    "def ssafy(a,b):\n",
    "    return b,a\n",
    "print(1,2"
   ]
  },
  {
   "cell_type": "markdown",
   "id": "2e9157f3",
   "metadata": {},
   "source": [
    "argument와 prameter의 차이를 서술하시오."
   ]
  },
  {
   "cell_type": "markdown",
   "id": "dbe42648",
   "metadata": {},
   "source": [
    "\n"
   ]
  },
  {
   "cell_type": "code",
   "execution_count": null,
   "id": "fb052083",
   "metadata": {},
   "outputs": [],
   "source": [
    "# 다음 코드의 결과는?\n",
    "def hello(a,b = 'hi'):\n",
    "    a = 'hi'\n",
    "    return a,b\n",
    "print(hello('hello'))"
   ]
  },
  {
   "cell_type": "code",
   "execution_count": null,
   "id": "158bce21",
   "metadata": {},
   "outputs": [],
   "source": [
    "# 다음 코드의 결과는?\n",
    "def func(a,b,*args):\n",
    "    return args\n",
    "\n",
    "print(func(1,2,3,4,5))"
   ]
  },
  {
   "cell_type": "code",
   "execution_count": null,
   "id": "7b58b435",
   "metadata": {},
   "outputs": [],
   "source": [
    "# 다음 코드의 결과는?\n",
    "def func(*args,**kwargs):\n",
    "    result = dict()\n",
    "    print(kwargs)\n",
    "    for i in args:\n",
    "        result['args'] = list(args)\n",
    "    for key in kwargs:\n",
    "        result[key] = (kwargs[key])\n",
    "    return result\n",
    "\n",
    "print(func('a',2,d='10',e='c'))"
   ]
  },
  {
   "cell_type": "markdown",
   "id": "b59028db",
   "metadata": {},
   "source": [
    "다음 중 오류가 코드를 모두 고르시오.\n",
    "```python\n",
    "1. def a1(a):\n",
    "    pass\n",
    "2. def a2(a = 30,b):\n",
    "    pass\n",
    "3. def a3(*args, **kwargs):\n",
    "    pass\n",
    "4. def a4(*args,a):\n",
    "    pass\n",
    "5. def a5(**kwargs, *args):\n",
    "    pass\n",
    "```"
   ]
  },
  {
   "cell_type": "markdown",
   "id": "6217fa3c",
   "metadata": {},
   "source": [
    "다음 코드는 오류가 나는가?"
   ]
  },
  {
   "cell_type": "code",
   "execution_count": null,
   "id": "418e074f",
   "metadata": {},
   "outputs": [],
   "source": [
    "def a1(a,*args):\n",
    "    return a,args\n",
    "\n",
    "print(a1(1))"
   ]
  }
 ],
 "metadata": {
  "kernelspec": {
   "display_name": "Python 3 (ipykernel)",
   "language": "python",
   "name": "python3"
  },
  "language_info": {
   "codemirror_mode": {
    "name": "ipython",
    "version": 3
   },
   "file_extension": ".py",
   "mimetype": "text/x-python",
   "name": "python",
   "nbconvert_exporter": "python",
   "pygments_lexer": "ipython3",
   "version": "3.10.5"
  }
 },
 "nbformat": 4,
 "nbformat_minor": 5
}
